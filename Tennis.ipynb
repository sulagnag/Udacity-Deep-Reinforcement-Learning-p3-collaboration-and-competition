{
 "cells": [
  {
   "cell_type": "markdown",
   "metadata": {},
   "source": [
    "# Collaboration and Competition\n",
    "\n",
    "---\n",
    "\n",
    "You are welcome to use this coding environment to train your agent for the project.  Follow the instructions below to get started!\n",
    "\n",
    "### 1. Start the Environment\n",
    "\n",
    "Run the next code cell to install a few packages.  This line will take a few minutes to run!"
   ]
  },
  {
   "cell_type": "code",
   "execution_count": 1,
   "metadata": {},
   "outputs": [
    {
     "name": "stdout",
     "output_type": "stream",
     "text": [
      "\u001b[31mtensorflow 1.7.1 has requirement numpy>=1.13.3, but you'll have numpy 1.12.1 which is incompatible.\u001b[0m\r\n",
      "\u001b[31mipython 6.5.0 has requirement prompt-toolkit<2.0.0,>=1.0.15, but you'll have prompt-toolkit 3.0.16 which is incompatible.\u001b[0m\r\n"
     ]
    }
   ],
   "source": [
    "!pip -q install ./python"
   ]
  },
  {
   "cell_type": "markdown",
   "metadata": {},
   "source": [
    "The environment is already saved in the Workspace and can be accessed at the file path provided below. "
   ]
  },
  {
   "cell_type": "code",
   "execution_count": 2,
   "metadata": {},
   "outputs": [
    {
     "name": "stderr",
     "output_type": "stream",
     "text": [
      "INFO:unityagents:\n",
      "'Academy' started successfully!\n",
      "Unity Academy name: Academy\n",
      "        Number of Brains: 1\n",
      "        Number of External Brains : 1\n",
      "        Lesson number : 0\n",
      "        Reset Parameters :\n",
      "\t\t\n",
      "Unity brain name: TennisBrain\n",
      "        Number of Visual Observations (per agent): 0\n",
      "        Vector Observation space type: continuous\n",
      "        Vector Observation space size (per agent): 8\n",
      "        Number of stacked Vector Observation: 3\n",
      "        Vector Action space type: continuous\n",
      "        Vector Action space size (per agent): 2\n",
      "        Vector Action descriptions: , \n"
     ]
    }
   ],
   "source": [
    "from unityagents import UnityEnvironment\n",
    "import numpy as np\n",
    "\n",
    "env = UnityEnvironment(file_name=\"/data/Tennis_Linux_NoVis/Tennis\")"
   ]
  },
  {
   "cell_type": "markdown",
   "metadata": {},
   "source": [
    "Environments contain **_brains_** which are responsible for deciding the actions of their associated agents. Here we check for the first brain available, and set it as the default brain we will be controlling from Python."
   ]
  },
  {
   "cell_type": "code",
   "execution_count": 3,
   "metadata": {},
   "outputs": [],
   "source": [
    "# get the default brain\n",
    "brain_name = env.brain_names[0]\n",
    "brain = env.brains[brain_name]"
   ]
  },
  {
   "cell_type": "markdown",
   "metadata": {},
   "source": [
    "\n",
    "### 2. Examine the State and Action Spaces\n",
    "\n",
    "Run the code cell below to print some information about the environment."
   ]
  },
  {
   "cell_type": "code",
   "execution_count": 4,
   "metadata": {},
   "outputs": [
    {
     "name": "stdout",
     "output_type": "stream",
     "text": [
      "Number of agents: 2\n",
      "Size of each action: 2\n",
      "There are 2 agents. Each observes a state with length: 24\n",
      "The state for the first agent looks like: [ 0.          0.          0.          0.          0.          0.          0.\n",
      "  0.          0.          0.          0.          0.          0.          0.\n",
      "  0.          0.         -6.65278625 -1.5        -0.          0.\n",
      "  6.83172083  6.         -0.          0.        ]\n"
     ]
    }
   ],
   "source": [
    "# reset the environment\n",
    "env_info = env.reset(train_mode=True)[brain_name]\n",
    "\n",
    "# number of agents \n",
    "num_agents = len(env_info.agents)\n",
    "print('Number of agents:', num_agents)\n",
    "\n",
    "# size of each action\n",
    "action_size = brain.vector_action_space_size\n",
    "print('Size of each action:', action_size)\n",
    "\n",
    "# examine the state space \n",
    "states = env_info.vector_observations\n",
    "state_size = states.shape[1]\n",
    "print('There are {} agents. Each observes a state with length: {}'.format(states.shape[0], state_size))\n",
    "print('The state for the first agent looks like:', states[0])"
   ]
  },
  {
   "cell_type": "markdown",
   "metadata": {},
   "source": [
    "### 3. Take Random Actions in the Environment\n",
    "\n",
    "In the next code cell, you will learn how to use the Python API to control the agent and receive feedback from the environment.\n",
    "\n",
    "Note that **in this coding environment, you will not be able to watch the agents while they are training**, and you should set `train_mode=True` to restart the environment."
   ]
  },
  {
   "cell_type": "code",
   "execution_count": 5,
   "metadata": {},
   "outputs": [
    {
     "name": "stdout",
     "output_type": "stream",
     "text": [
      "Total score (averaged over agents) this episode: 0.0\n"
     ]
    }
   ],
   "source": [
    "for i in range(1):                                         # play game for 5 episode\n",
    "    env_info = env.reset(train_mode=False)[brain_name]     # reset the environment    \n",
    "    states = env_info.vector_observations                  # get the current state (for each agent)\n",
    "    scores = np.zeros(num_agents)                          # initialize the score (for each agent)\n",
    "    while True:\n",
    "        actions = np.random.randn(num_agents, action_size) # select an action (for each agent)\n",
    "        actions = np.clip(actions, -1, 1)                  # all actions between -1 and 1\n",
    "        env_info = env.step(actions)[brain_name]           # send all actions to tne environment\n",
    "        next_states = env_info.vector_observations         # get next state (for each agent)\n",
    "        rewards = env_info.rewards                         # get reward (for each agent)\n",
    "        dones = env_info.local_done                        # see if episode finished\n",
    "        scores += env_info.rewards                         # update the score (for each agent)\n",
    "        states = next_states                               # roll over states to next time step\n",
    "        if np.any(dones):                                  # exit loop if episode finished\n",
    "            break\n",
    "    print('Total score (averaged over agents) this episode: {}'.format(np.max(scores)))"
   ]
  },
  {
   "cell_type": "markdown",
   "metadata": {},
   "source": [
    "When finished, you can close the environment."
   ]
  },
  {
   "cell_type": "code",
   "execution_count": 6,
   "metadata": {},
   "outputs": [],
   "source": [
    "#env.close()"
   ]
  },
  {
   "cell_type": "markdown",
   "metadata": {},
   "source": [
    "### 4. It's Your Turn!\n",
    "\n",
    "Now it's your turn to train your own agent to solve the environment!  A few **important notes**:\n",
    "- When training the environment, set `train_mode=True`, so that the line for resetting the environment looks like the following:\n",
    "```python\n",
    "env_info = env.reset(train_mode=True)[brain_name]\n",
    "```\n",
    "- To structure your work, you're welcome to work directly in this Jupyter notebook, or you might like to start over with a new file!  You can see the list of files in the workspace by clicking on **_Jupyter_** in the top left corner of the notebook.\n",
    "- In this coding environment, you will not be able to watch the agents while they are training.  However, **_after training the agents_**, you can download the saved model weights to watch the agents on your own machine! "
   ]
  },
  {
   "cell_type": "code",
   "execution_count": 7,
   "metadata": {},
   "outputs": [],
   "source": [
    "%load_ext autoreload\n",
    "%autoreload 2"
   ]
  },
  {
   "cell_type": "code",
   "execution_count": 9,
   "metadata": {},
   "outputs": [],
   "source": [
    "from configparser import ConfigParser \n",
    "configur = ConfigParser() \n",
    "configur.read('config.ini')\n",
    "\n",
    "Gamma = float(configur.get('agent','gamma'))\n",
    "\n",
    "num_episodes = int(configur.get('train','number_of_episodes'))\n",
    "random_seed = int(configur.get('train','random_seed'))\n",
    "state_size = int(configur.get('env','state_size'))\n",
    "action_size = int(configur.get('env','action_size'))\n",
    "num_agents = int(configur.get('env','num_agents'))\n",
    "\n"
   ]
  },
  {
   "cell_type": "code",
   "execution_count": 10,
   "metadata": {},
   "outputs": [],
   "source": [
    "from collections import namedtuple, deque\n",
    "\n",
    "def trainAgent(magent,env,ne,brain_name):\n",
    "    scores=[]\n",
    "    window=deque(maxlen=100)\n",
    "    ts=0\n",
    "    noise=1\n",
    "    decay=0.998\n",
    "    for i_ep in range(1,ne+1):\n",
    "        env_info = env.reset(train_mode=True)[brain_name]  \n",
    "        states = env_info.vector_observations \n",
    "        score = np.zeros(num_agents) \n",
    "        [agent.reset() for agent in magent.agents]\n",
    "        \n",
    "\n",
    "        while True:\n",
    "            ts+=1\n",
    "            actions=magent.get_action(states,noise) \n",
    "            env_info = env.step(actions)[brain_name]           # send all actions to tne environment\n",
    "            next_states = env_info.vector_observations        # get next state (for each agent)\n",
    "            \n",
    "            rewards = env_info.rewards                        # get reward (for each agent)\n",
    "            dones = env_info.local_done                       # see if episode finished\n",
    "            score += rewards                                 # update the score (for each agent)\n",
    "            \n",
    "            magent.step(states,actions,rewards,next_states,dones,ts)\n",
    "            \n",
    "            states = next_states                               # roll over states to next time step\n",
    "            if np.any(dones):                                  # exit loop if episode finished\n",
    "                break\n",
    "        noise= noise*decay\n",
    "        scores.append(np.max(score))\n",
    "        window.append(np.max(score))\n",
    "        \n",
    "        if i_ep %10 ==0 :\n",
    "            print(\"Episode {}/{} Avg scores:{} last score :{}\".format(i_ep,ne,np.mean(window),score))\n",
    "        \n",
    "        if np.mean(window) >= 0.5:\n",
    "            print (\"solved in {} episodes\".format(i_ep))\n",
    "            print (\"Saving Model...\")\n",
    "            for j,agent in enumerate(magent.agents):\n",
    "                torch.save(agent.actor_local.state_dict(), 'checkpoint_actor'+j+'.pth')\n",
    "                torch.save(agent.critic.state_dict(), 'checkpoint_critic'+j+'.pth')\n",
    "            break\n",
    "        \n",
    "    return scores"
   ]
  },
  {
   "cell_type": "code",
   "execution_count": 11,
   "metadata": {},
   "outputs": [],
   "source": [
    "from MADDPG import MADDPG\n",
    "magent= MADDPG(state_size,action_size,num_agents,Gamma,random_seed=10) "
   ]
  },
  {
   "cell_type": "code",
   "execution_count": 12,
   "metadata": {},
   "outputs": [
    {
     "name": "stdout",
     "output_type": "stream",
     "text": [
      "cpu\n"
     ]
    }
   ],
   "source": [
    "import torch\n",
    "device = torch.device(\"cuda\" if torch.cuda.is_available() else \"cpu\")\n",
    "print (device)"
   ]
  },
  {
   "cell_type": "code",
   "execution_count": null,
   "metadata": {},
   "outputs": [
    {
     "name": "stdout",
     "output_type": "stream",
     "text": [
      "Episode 10/1500 Avg scores:0.010000000149011612 last score :[ 0.   -0.01]\n",
      "Episode 20/1500 Avg scores:0.014500000234693288 last score :[ 0.   -0.01]\n",
      "Episode 30/1500 Avg scores:0.01300000020613273 last score :[ 0.1  -0.01]\n",
      "Episode 40/1500 Avg scores:0.012250000191852451 last score :[-0.01  0.  ]\n",
      "Episode 50/1500 Avg scores:0.015400000251829624 last score :[ 0.    0.09]\n",
      "Episode 60/1500 Avg scores:0.014500000234693288 last score :[-0.01  0.  ]\n",
      "Episode 70/1500 Avg scores:0.016428571726594652 last score :[-0.01  0.  ]\n",
      "Episode 80/1500 Avg scores:0.014375000260770321 last score :[ 0.   -0.01]\n",
      "Episode 90/1500 Avg scores:0.012777778009573618 last score :[ 0.   -0.01]\n",
      "Episode 100/1500 Avg scores:0.013400000240653753 last score :[ 0.   -0.01]\n",
      "Episode 110/1500 Avg scores:0.012400000225752592 last score :[ 0.   -0.01]\n",
      "Episode 120/1500 Avg scores:0.012400000225752592 last score :[ 0.1  -0.01]\n",
      "Episode 130/1500 Avg scores:0.013400000240653753 last score :[ 0.   -0.01]\n",
      "Episode 140/1500 Avg scores:0.013400000240653753 last score :[-0.01  0.  ]\n",
      "Episode 150/1500 Avg scores:0.014600000251084566 last score :[-0.01  0.1 ]\n",
      "Episode 160/1500 Avg scores:0.017400000300258397 last score :[ 0.   -0.01]\n",
      "Episode 170/1500 Avg scores:0.018500000294297932 last score :[ 0.   -0.01]\n",
      "Episode 180/1500 Avg scores:0.019500000309199093 last score :[-0.01  0.  ]\n",
      "Episode 190/1500 Avg scores:0.021300000362098215 last score :[ 0.   -0.01]\n",
      "Episode 200/1500 Avg scores:0.021300000362098215 last score :[ 0.1  -0.01]\n",
      "Episode 210/1500 Avg scores:0.024300000406801702 last score :[-0.01  0.  ]\n",
      "Episode 220/1500 Avg scores:0.024300000425428153 last score :[ 0.   -0.01]\n",
      "Episode 230/1500 Avg scores:0.023200000412762167 last score :[ 0.   -0.01]\n",
      "Episode 240/1500 Avg scores:0.023200000412762167 last score :[-0.01  0.  ]\n",
      "Episode 250/1500 Avg scores:0.02020000036805868 last score :[-0.01  0.1 ]\n",
      "Episode 260/1500 Avg scores:0.019300000350922344 last score :[-0.01  0.1 ]\n",
      "Episode 270/1500 Avg scores:0.017400000318884848 last score :[ 0.1   0.09]\n",
      "Episode 280/1500 Avg scores:0.017400000318884848 last score :[ 0.   -0.01]\n",
      "Episode 290/1500 Avg scores:0.016600000280886887 last score :[-0.01  0.  ]\n",
      "Episode 300/1500 Avg scores:0.014700000248849392 last score :[-0.01  0.  ]\n",
      "Episode 310/1500 Avg scores:0.013700000233948231 last score :[-0.01  0.  ]\n",
      "Episode 320/1500 Avg scores:0.014800000227987766 last score :[ 0.   -0.01]\n",
      "Episode 330/1500 Avg scores:0.015900000240653755 last score :[-0.01  0.  ]\n",
      "Episode 340/1500 Avg scores:0.014900000225752592 last score :[-0.01  0.  ]\n",
      "Episode 350/1500 Avg scores:0.01680000027641654 last score :[-0.01  0.  ]\n",
      "Episode 360/1500 Avg scores:0.014900000244379043 last score :[ 0.   -0.01]\n",
      "Episode 370/1500 Avg scores:0.014800000265240669 last score :[ 0.   -0.01]\n",
      "Episode 380/1500 Avg scores:0.01580000028014183 last score :[-0.01  0.1 ]\n",
      "Episode 390/1500 Avg scores:0.018800000324845315 last score :[-0.01  0.  ]\n",
      "Episode 400/1500 Avg scores:0.019800000339746476 last score :[-0.01  0.  ]\n",
      "Episode 410/1500 Avg scores:0.018800000324845315 last score :[-0.01  0.1 ]\n",
      "Episode 420/1500 Avg scores:0.016700000315904618 last score :[ 0.   -0.01]\n",
      "Episode 430/1500 Avg scores:0.016700000315904618 last score :[-0.01  0.  ]\n",
      "Episode 440/1500 Avg scores:0.01770000033080578 last score :[-0.01  0.  ]\n",
      "Episode 450/1500 Avg scores:0.01580000028014183 last score :[-0.01  0.  ]\n",
      "Episode 460/1500 Avg scores:0.01580000028014183 last score :[ 0.   -0.01]\n",
      "Episode 470/1500 Avg scores:0.016800000295042992 last score :[ 0.    0.09]\n",
      "Episode 480/1500 Avg scores:0.016700000297278167 last score :[-0.01  0.  ]\n",
      "Episode 490/1500 Avg scores:0.015700000282377006 last score :[ 0.   -0.01]\n",
      "Episode 500/1500 Avg scores:0.014700000267475843 last score :[-0.01  0.  ]\n",
      "Episode 510/1500 Avg scores:0.01560000030323863 last score :[ 0.   -0.01]\n",
      "Episode 520/1500 Avg scores:0.016700000297278167 last score :[-0.01  0.  ]\n",
      "Episode 530/1500 Avg scores:0.014700000267475843 last score :[-0.01  0.  ]\n",
      "Episode 540/1500 Avg scores:0.015700000282377006 last score :[-0.01  0.  ]\n",
      "Episode 550/1500 Avg scores:0.016700000297278167 last score :[-0.01  0.1 ]\n",
      "Episode 560/1500 Avg scores:0.015700000282377006 last score :[ 0.   -0.01]\n",
      "Episode 570/1500 Avg scores:0.015700000282377006 last score :[ 0.   -0.01]\n",
      "Episode 580/1500 Avg scores:0.014800000265240669 last score :[ 0.   -0.01]\n",
      "Episode 590/1500 Avg scores:0.012800000235438347 last score :[ 0.   -0.01]\n",
      "Episode 600/1500 Avg scores:0.014800000265240669 last score :[-0.01  0.  ]\n",
      "Episode 610/1500 Avg scores:0.013900000229477882 last score :[ 0.   -0.01]\n",
      "Episode 620/1500 Avg scores:0.015900000259280206 last score :[-0.01  0.1 ]\n",
      "Episode 630/1500 Avg scores:0.016900000274181367 last score :[ 0.   -0.01]\n",
      "Episode 640/1500 Avg scores:0.017800000309944154 last score :[ 0.   -0.01]\n",
      "Episode 650/1500 Avg scores:0.019800000339746476 last score :[ 0.1  -0.01]\n",
      "Episode 660/1500 Avg scores:0.020800000354647637 last score :[ 0.   -0.01]\n",
      "Episode 670/1500 Avg scores:0.01890000030398369 last score :[-0.01  0.  ]\n",
      "Episode 680/1500 Avg scores:0.021900000348687172 last score :[ 0.1  -0.01]\n",
      "Episode 690/1500 Avg scores:0.021900000348687172 last score :[ 0.1  -0.01]\n",
      "Episode 700/1500 Avg scores:0.02090000033378601 last score :[-0.01  0.  ]\n",
      "Episode 710/1500 Avg scores:0.023900000378489494 last score :[ 0.   -0.01]\n",
      "Episode 720/1500 Avg scores:0.02090000033378601 last score :[-0.01  0.  ]\n",
      "Episode 730/1500 Avg scores:0.02090000033378601 last score :[-0.01  0.  ]\n",
      "Episode 740/1500 Avg scores:0.020000000298023225 last score :[-0.01  0.  ]\n",
      "Episode 750/1500 Avg scores:0.01700000025331974 last score :[ 0.   -0.01]\n",
      "Episode 760/1500 Avg scores:0.01990000031888485 last score :[ 0.   -0.01]\n",
      "Episode 770/1500 Avg scores:0.023700000420212745 last score :[ 0.   -0.01]\n",
      "Episode 780/1500 Avg scores:0.020700000375509262 last score :[ 0.   -0.01]\n",
      "Episode 790/1500 Avg scores:0.022700000405311584 last score :[ 0.1  -0.01]\n",
      "Episode 800/1500 Avg scores:0.025700000450015067 last score :[ 0.   -0.01]\n",
      "Episode 810/1500 Avg scores:0.02360000044107437 last score :[ 0.   -0.01]\n",
      "Episode 820/1500 Avg scores:0.023500000461935996 last score :[ 0.   -0.01]\n",
      "Episode 830/1500 Avg scores:0.024400000497698783 last score :[ 0.   -0.01]\n",
      "Episode 840/1500 Avg scores:0.02240000046789646 last score :[-0.01  0.  ]\n",
      "Episode 850/1500 Avg scores:0.024400000497698783 last score :[-0.01  0.  ]\n",
      "Episode 860/1500 Avg scores:0.021500000432133674 last score :[-0.01  0.  ]\n",
      "Episode 870/1500 Avg scores:0.01770000033080578 last score :[-0.01  0.  ]\n",
      "Episode 880/1500 Avg scores:0.016700000315904618 last score :[ 0.   -0.01]\n",
      "Episode 890/1500 Avg scores:0.015600000321865082 last score :[-0.01  0.  ]\n",
      "Episode 900/1500 Avg scores:0.011600000262260437 last score :[ 0.   -0.01]\n",
      "Episode 910/1500 Avg scores:0.01070000022649765 last score :[-0.01  0.  ]\n",
      "Episode 920/1500 Avg scores:0.010800000205636024 last score :[-0.01  0.  ]\n",
      "Episode 930/1500 Avg scores:0.012700000256299972 last score :[ 0.   -0.01]\n",
      "Episode 940/1500 Avg scores:0.015600000321865082 last score :[ 0.1  -0.01]\n",
      "Episode 950/1500 Avg scores:0.01750000037252903 last score :[-0.01  0.  ]\n",
      "Episode 960/1500 Avg scores:0.01650000035762787 last score :[ 0.   -0.01]\n"
     ]
    }
   ],
   "source": [
    "scores=trainAgent(magent,env,num_episodes,brain_name)\n",
    "scores_copy=scores"
   ]
  },
  {
   "cell_type": "code",
   "execution_count": null,
   "metadata": {},
   "outputs": [],
   "source": [
    "scores_copy=scores"
   ]
  },
  {
   "cell_type": "code",
   "execution_count": null,
   "metadata": {},
   "outputs": [],
   "source": [
    "#graph of score over episodes\n",
    "import pandas as pd\n",
    "import matplotlib.pyplot as plt\n",
    "%matplotlib inline\n",
    "\n",
    "target_score=0.5\n",
    "rolling_mean = pd.Series(scores_copy).rolling(window=10).mean()\n",
    "\n",
    "plt.plot(range(len(scores_copy)),scores_copy,label=\"avg scores\")\n",
    "plt.plot(rolling_mean,label=\"rolling mean\")\n",
    "plt.plot(range(len(scores_copy)),(len(scores_copy)*[target_score]), linestyle='--',label=\"target\", color='r')\n",
    "plt.ylabel('Score')\n",
    "plt.xlabel('Episode #')\n",
    "plt.legend()\n",
    "plt.grid(\"on\")\n",
    "plt.show()"
   ]
  },
  {
   "cell_type": "code",
   "execution_count": null,
   "metadata": {},
   "outputs": [],
   "source": [
    "#to play\n",
    "import torch\n",
    "magent.agents[0].actor_local.load_state_dict(torch.load('checkpoint_actor-0.pth'))\n",
    "magent.agents[0].critic_local.load_state_dict(torch.load('checkpoint_critic-0.pth'))\n",
    "magent.agents[1].actor_local.load_state_dict(torch.load('checkpoint_actor-1.pth'))\n",
    "magent.agents[1].critic_local.load_state_dict(torch.load('checkpoint_critic-1.pth'))\n",
    "\n",
    "\n",
    "env_info = env.reset(train_mode=True)[brain_name]      # reset the environment    \n",
    "states = env_info.vector_observations                  # get the current state (for each agent)\n",
    "scores = np.zeros(num_agents)                          # initialize the score (for each agent)\n",
    "while True:\n",
    "    actions=agent.get_action(states)\n",
    "    env_info = env.step(actions)[brain_name]           # send all actions to tne environment\n",
    "    next_states = env_info.vector_observations         # get next state (for each agent)\n",
    "    rewards = env_info.rewards                         # get reward (for each agent)\n",
    "    dones = env_info.local_done                        # see if episode finished\n",
    "    scores += env_info.rewards                         # update the score (for each agent)\n",
    "    states = next_states                               # roll over states to next time step\n",
    "    if np.any(dones):                                  # exit loop if episode finished\n",
    "        break\n",
    "print('Total score (averaged over agents) this episode: {}'.format(np.max(scores)))"
   ]
  },
  {
   "cell_type": "code",
   "execution_count": null,
   "metadata": {},
   "outputs": [],
   "source": [
    "env.close()"
   ]
  }
 ],
 "metadata": {
  "kernelspec": {
   "display_name": "Python 3",
   "language": "python",
   "name": "python3"
  },
  "language_info": {
   "codemirror_mode": {
    "name": "ipython",
    "version": 3
   },
   "file_extension": ".py",
   "mimetype": "text/x-python",
   "name": "python",
   "nbconvert_exporter": "python",
   "pygments_lexer": "ipython3",
   "version": "3.6.3"
  }
 },
 "nbformat": 4,
 "nbformat_minor": 2
}
