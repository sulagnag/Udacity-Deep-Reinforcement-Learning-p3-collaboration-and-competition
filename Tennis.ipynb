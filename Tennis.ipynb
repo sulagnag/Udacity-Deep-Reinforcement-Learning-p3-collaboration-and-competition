{
 "cells": [
  {
   "cell_type": "markdown",
   "metadata": {},
   "source": [
    "# Collaboration and Competition\n",
    "\n",
    "---\n",
    "\n",
    "In this notebook, you will learn how to use the Unity ML-Agents environment for the third project of the [Deep Reinforcement Learning Nanodegree](https://www.udacity.com/course/deep-reinforcement-learning-nanodegree--nd893) program.\n",
    "\n",
    "### 1. Start the Environment\n",
    "\n",
    "We begin by importing the necessary packages.  If the code cell below returns an error, please revisit the project instructions to double-check that you have installed [Unity ML-Agents](https://github.com/Unity-Technologies/ml-agents/blob/master/docs/Installation.md) and [NumPy](http://www.numpy.org/)."
   ]
  },
  {
   "cell_type": "code",
   "execution_count": 1,
   "metadata": {},
   "outputs": [
    {
     "name": "stdout",
     "output_type": "stream",
     "text": [
      "\u001b[31mtensorflow 1.7.1 has requirement numpy>=1.13.3, but you'll have numpy 1.12.1 which is incompatible.\u001b[0m\r\n",
      "\u001b[31mipython 6.5.0 has requirement prompt-toolkit<2.0.0,>=1.0.15, but you'll have prompt-toolkit 3.0.16 which is incompatible.\u001b[0m\r\n"
     ]
    }
   ],
   "source": [
    "!pip -q install ./python"
   ]
  },
  {
   "cell_type": "code",
   "execution_count": 2,
   "metadata": {},
   "outputs": [],
   "source": [
    "from unityagents import UnityEnvironment\n",
    "import numpy as np"
   ]
  },
  {
   "cell_type": "markdown",
   "metadata": {},
   "source": [
    "Next, we will start the environment!  **_Before running the code cell below_**, change the `file_name` parameter to match the location of the Unity environment that you downloaded.\n",
    "\n",
    "- **Mac**: `\"path/to/Tennis.app\"`\n",
    "- **Windows** (x86): `\"path/to/Tennis_Windows_x86/Tennis.exe\"`\n",
    "- **Windows** (x86_64): `\"path/to/Tennis_Windows_x86_64/Tennis.exe\"`\n",
    "- **Linux** (x86): `\"path/to/Tennis_Linux/Tennis.x86\"`\n",
    "- **Linux** (x86_64): `\"path/to/Tennis_Linux/Tennis.x86_64\"`\n",
    "- **Linux** (x86, headless): `\"path/to/Tennis_Linux_NoVis/Tennis.x86\"`\n",
    "- **Linux** (x86_64, headless): `\"path/to/Tennis_Linux_NoVis/Tennis.x86_64\"`\n",
    "\n",
    "For instance, if you are using a Mac, then you downloaded `Tennis.app`.  If this file is in the same folder as the notebook, then the line below should appear as follows:\n",
    "```\n",
    "env = UnityEnvironment(file_name=\"Tennis.app\")\n",
    "```"
   ]
  },
  {
   "cell_type": "code",
   "execution_count": 3,
   "metadata": {},
   "outputs": [
    {
     "name": "stderr",
     "output_type": "stream",
     "text": [
      "INFO:unityagents:\n",
      "'Academy' started successfully!\n",
      "Unity Academy name: Academy\n",
      "        Number of Brains: 1\n",
      "        Number of External Brains : 1\n",
      "        Lesson number : 0\n",
      "        Reset Parameters :\n",
      "\t\t\n",
      "Unity brain name: TennisBrain\n",
      "        Number of Visual Observations (per agent): 0\n",
      "        Vector Observation space type: continuous\n",
      "        Vector Observation space size (per agent): 8\n",
      "        Number of stacked Vector Observation: 3\n",
      "        Vector Action space type: continuous\n",
      "        Vector Action space size (per agent): 2\n",
      "        Vector Action descriptions: , \n"
     ]
    }
   ],
   "source": [
    "env = UnityEnvironment(file_name=\"/data/Tennis_Linux_NoVis/Tennis\")"
   ]
  },
  {
   "cell_type": "markdown",
   "metadata": {},
   "source": [
    "Environments contain **_brains_** which are responsible for deciding the actions of their associated agents. Here we check for the first brain available, and set it as the default brain we will be controlling from Python."
   ]
  },
  {
   "cell_type": "code",
   "execution_count": 4,
   "metadata": {},
   "outputs": [],
   "source": [
    "# get the default brain\n",
    "brain_name = env.brain_names[0]\n",
    "brain = env.brains[brain_name]"
   ]
  },
  {
   "cell_type": "markdown",
   "metadata": {},
   "source": [
    "### 2. Examine the State and Action Spaces\n",
    "\n",
    "In this environment, two agents control rackets to bounce a ball over a net. If an agent hits the ball over the net, it receives a reward of +0.1.  If an agent lets a ball hit the ground or hits the ball out of bounds, it receives a reward of -0.01.  Thus, the goal of each agent is to keep the ball in play.\n",
    "\n",
    "The observation space consists of 8 variables corresponding to the position and velocity of the ball and racket. Two continuous actions are available, corresponding to movement toward (or away from) the net, and jumping. \n",
    "\n",
    "Run the code cell below to print some information about the environment."
   ]
  },
  {
   "cell_type": "code",
   "execution_count": 5,
   "metadata": {},
   "outputs": [
    {
     "name": "stdout",
     "output_type": "stream",
     "text": [
      "Number of agents: 2\n",
      "Size of each action: 2\n",
      "There are 2 agents. Each observes a state with length: 24\n",
      "The state for the first agent looks like: [ 0.          0.          0.          0.          0.          0.          0.\n",
      "  0.          0.          0.          0.          0.          0.          0.\n",
      "  0.          0.         -6.65278625 -1.5        -0.          0.\n",
      "  6.83172083  6.         -0.          0.        ]\n"
     ]
    }
   ],
   "source": [
    "# reset the environment\n",
    "env_info = env.reset(train_mode=True)[brain_name]\n",
    "\n",
    "# number of agents \n",
    "num_agents = len(env_info.agents)\n",
    "print('Number of agents:', num_agents)\n",
    "\n",
    "# size of each action\n",
    "action_size = brain.vector_action_space_size\n",
    "print('Size of each action:', action_size)\n",
    "\n",
    "# examine the state space \n",
    "states = env_info.vector_observations\n",
    "state_size = states.shape[1]\n",
    "print('There are {} agents. Each observes a state with length: {}'.format(states.shape[0], state_size))\n",
    "print('The state for the first agent looks like:', states[0])"
   ]
  },
  {
   "cell_type": "markdown",
   "metadata": {},
   "source": [
    "### 3. Take Random Actions in the Environment\n",
    "\n",
    "In the next code cell, you will learn how to use the Python API to control the agents and receive feedback from the environment.\n",
    "\n",
    "Once this cell is executed, you will watch the agents' performance, if they select actions at random with each time step.  A window should pop up that allows you to observe the agents.\n",
    "\n",
    "Of course, as part of the project, you'll have to change the code so that the agents are able to use their experiences to gradually choose better actions when interacting with the environment!"
   ]
  },
  {
   "cell_type": "code",
   "execution_count": 6,
   "metadata": {
    "scrolled": false
   },
   "outputs": [
    {
     "name": "stdout",
     "output_type": "stream",
     "text": [
      "15\n",
      "indiv scores and Score (max over agents) from episode 1: [ 0.   -0.01] 0.0\n",
      "14\n",
      "indiv scores and Score (max over agents) from episode 2: [ 0.   -0.01] 0.0\n",
      "14\n",
      "indiv scores and Score (max over agents) from episode 3: [ 0.   -0.01] 0.0\n",
      "14\n",
      "indiv scores and Score (max over agents) from episode 4: [ 0.   -0.01] 0.0\n",
      "14\n",
      "indiv scores and Score (max over agents) from episode 5: [ 0.   -0.01] 0.0\n"
     ]
    }
   ],
   "source": [
    "for i in range(1,6):                                      # play game for 5 episodes\n",
    "    env_info = env.reset(train_mode=False)[brain_name]     # reset the environment    \n",
    "    states = env_info.vector_observations                  # get the current state (for each agent)\n",
    "    scores = np.zeros(num_agents)                          # initialize the score (for each agent)\n",
    "    ec=0\n",
    "    while True:\n",
    "        ec+=1\n",
    "        actions = np.random.randn(num_agents, action_size) # select an action (for each agent)\n",
    "        actions = np.clip(actions, -1, 1)                  # all actions between -1 and 1\n",
    "        env_info = env.step(actions)[brain_name]           # send all actions to tne environment\n",
    "        next_states = env_info.vector_observations         # get next state (for each agent)\n",
    "        rewards = env_info.rewards                         # get reward (for each agent)\n",
    "        dones = env_info.local_done                        # see if episode finished\n",
    "        scores += env_info.rewards                         # update the score (for each agent)\n",
    "        states = next_states                               # roll over states to next time step\n",
    "        if np.any(dones):                                  # exit loop if episode finished\n",
    "            print (ec)\n",
    "            break\n",
    "    print('indiv scores and Score (max over agents) from episode {}: {} {}'.format(i, scores, np.max(scores)))"
   ]
  },
  {
   "cell_type": "markdown",
   "metadata": {},
   "source": [
    "When finished, you can close the environment."
   ]
  },
  {
   "cell_type": "code",
   "execution_count": 7,
   "metadata": {},
   "outputs": [],
   "source": [
    "#env.close()"
   ]
  },
  {
   "cell_type": "markdown",
   "metadata": {},
   "source": [
    "### 4. It's Your Turn!\n",
    "\n",
    "Now it's your turn to train your own agent to solve the environment!  When training the environment, set `train_mode=True`, so that the line for resetting the environment looks like the following:\n",
    "```python\n",
    "env_info = env.reset(train_mode=True)[brain_name]\n",
    "```"
   ]
  },
  {
   "cell_type": "code",
   "execution_count": 8,
   "metadata": {},
   "outputs": [],
   "source": [
    "%load_ext autoreload\n",
    "\n",
    "%autoreload 2"
   ]
  },
  {
   "cell_type": "code",
   "execution_count": 9,
   "metadata": {},
   "outputs": [
    {
     "name": "stdout",
     "output_type": "stream",
     "text": [
      "<class 'int'>\n"
     ]
    }
   ],
   "source": [
    "from configparser import ConfigParser \n",
    "configur = ConfigParser() \n",
    "configur.read('config.ini')\n",
    "\n",
    "Gamma = float(configur.get('agent','gamma'))\n",
    "\n",
    "num_episodes = int(configur.get('train','number_of_episodes'))\n",
    "random_seed = int(configur.get('train','random_seed'))\n",
    "batch_size = int(configur.get('agent','batch_size'))\n",
    "\n",
    "state_size = int(configur.get('env','state_size'))\n",
    "action_size = int(configur.get('env','action_size'))\n",
    "num_agents = int(configur.get('env','num_agents'))\n",
    "\n",
    "print (type(state_size))"
   ]
  },
  {
   "cell_type": "code",
   "execution_count": 10,
   "metadata": {},
   "outputs": [],
   "source": [
    "from MADDPG import MADDPG\n",
    "magent= MADDPG(state_size,action_size,num_agents,Gamma) "
   ]
  },
  {
   "cell_type": "code",
   "execution_count": 11,
   "metadata": {},
   "outputs": [],
   "source": [
    "import torch\n",
    "device = torch.device(\"cuda:0\" if torch.cuda.is_available() else \"cpu\")"
   ]
  },
  {
   "cell_type": "code",
   "execution_count": 12,
   "metadata": {},
   "outputs": [
    {
     "name": "stdout",
     "output_type": "stream",
     "text": [
      "Actor(\n",
      "  (fc1): Linear(in_features=24, out_features=480, bias=True)\n",
      "  (fc2): Linear(in_features=480, out_features=360, bias=True)\n",
      "  (fc3): Linear(in_features=360, out_features=2, bias=True)\n",
      "  (drop1): Dropout(p=0.5)\n",
      "  (drop2): Dropout(p=0.5)\n",
      ")\n"
     ]
    }
   ],
   "source": [
    "print (magent.agents[0].actor_local)"
   ]
  },
  {
   "cell_type": "code",
   "execution_count": 13,
   "metadata": {},
   "outputs": [
    {
     "name": "stdout",
     "output_type": "stream",
     "text": [
      "Critic(\n",
      "  (fc1): Linear(in_features=24, out_features=480, bias=True)\n",
      "  (fc2): Linear(in_features=482, out_features=360, bias=True)\n",
      "  (fc3): Linear(in_features=360, out_features=1, bias=True)\n",
      "  (drop1): Dropout(p=0.5)\n",
      "  (drop2): Dropout(p=0.5)\n",
      ")\n"
     ]
    }
   ],
   "source": [
    "print (magent.agents[0].critic_local)"
   ]
  },
  {
   "cell_type": "code",
   "execution_count": 14,
   "metadata": {},
   "outputs": [
    {
     "data": {
      "text/plain": [
       "True"
      ]
     },
     "execution_count": 14,
     "metadata": {},
     "output_type": "execute_result"
    }
   ],
   "source": [
    "next(magent.agents[1].actor_target.parameters()).is_cuda"
   ]
  },
  {
   "cell_type": "code",
   "execution_count": 15,
   "metadata": {},
   "outputs": [],
   "source": [
    "from collections import namedtuple, deque\n",
    "import torch\n",
    "def trainAgent(magent,env,ne,brain_name):\n",
    "    scores=[]\n",
    "    window=deque(maxlen=100)\n",
    "    ts=0\n",
    "    noise=1\n",
    "    decay=0.998\n",
    "    running_avg=0.0\n",
    "    maxsc=0.17\n",
    "    save=False\n",
    "    for i_ep in range(1,ne+1):\n",
    "        env_info = env.reset(train_mode=True)[brain_name]  \n",
    "        states = env_info.vector_observations \n",
    "        score = np.zeros(num_agents) \n",
    "        [agent.reset() for agent in magent.agents]\n",
    "    \n",
    "\n",
    "        while True:\n",
    "            ts+=1\n",
    "            actions=magent.get_action(states,noise) \n",
    "            env_info = env.step(actions)[brain_name]           # send all actions to tne environment\n",
    "            next_states = env_info.vector_observations        # get next state (for each agent)\n",
    "            \n",
    "            rewards = env_info.rewards                        # get reward (for each agent)\n",
    "            dones = env_info.local_done                       # see if episode finished\n",
    "            score += rewards                                 # update the score (for each agent)\n",
    "            \n",
    "            magent.step(states,actions,rewards,next_states,dones,ts)\n",
    "            \n",
    "            states = next_states                               # roll over states to next time step\n",
    "           \n",
    "            if np.any(dones):                                  # exit loop if episode finished\n",
    "                break\n",
    "     \n",
    "        noise= noise*decay\n",
    "        scores.append(np.max(score))\n",
    "        window.append(np.max(score))\n",
    "  \n",
    "      \n",
    "        if i_ep %50 ==0 :\n",
    "            print(\"Episode {}/{} Avg scores:{} last score :{} ts : {}\".format(i_ep,ne,np.mean(window),score,ts))\n",
    "           \n",
    "        if np.mean(window) >= 0.5:\n",
    "            print (\"solved in {} episodes\".format(i_ep))\n",
    "            print (\"Saving Model...\")\n",
    "            for j,agent in enumerate(magent.agents):\n",
    "                torch.save(agent.actor_local.state_dict(), 'checkpoint_actor'+str(j)+'.pth')\n",
    "                torch.save(agent.critic_local.state_dict(), 'checkpoint_critic'+str(j)+'.pth')\n",
    "            break\n",
    "        \n",
    "    return scores"
   ]
  },
  {
   "cell_type": "code",
   "execution_count": 16,
   "metadata": {
    "scrolled": true
   },
   "outputs": [
    {
     "name": "stdout",
     "output_type": "stream",
     "text": [
      "Episode 50/3000 Avg scores:0.02020000036805868 last score :[ 0.   -0.01] ts : 892\n",
      "Episode 100/3000 Avg scores:0.013900000248104333 last score :[-0.01  0.  ] ts : 1697\n",
      "Episode 150/3000 Avg scores:0.006800000108778476 last score :[-0.01  0.  ] ts : 2466\n",
      "Episode 200/3000 Avg scores:0.025700000394135714 last score :[-0.01  0.1 ] ts : 3654\n",
      "Episode 250/3000 Avg scores:0.04930000076070428 last score :[-0.01  0.  ] ts : 4977\n",
      "Episode 300/3000 Avg scores:0.08740000132471323 last score :[ 0.1  -0.01] ts : 7518\n",
      "solved in 323 episodes\n",
      "Saving Model...\n"
     ]
    }
   ],
   "source": [
    "scores=trainAgent(magent,env,num_episodes,brain_name)\n",
    "scores_copy=scores"
   ]
  },
  {
   "cell_type": "code",
   "execution_count": 17,
   "metadata": {},
   "outputs": [
    {
     "data": {
      "image/png": "[encoded data removed]",
      "text/plain": [
       "<matplotlib.figure.Figure at 0x7fc7b6dca860>"
      ]
     },
     "metadata": {
      "needs_background": "light"
     },
     "output_type": "display_data"
    }
   ],
   "source": [
    "#graph of score over episodes\n",
    "import pandas as pd\n",
    "import matplotlib.pyplot as plt\n",
    "%matplotlib inline\n",
    "\n",
    "target_score=0.5\n",
    "rolling_mean = pd.Series(scores_copy).rolling(window=10).mean()\n",
    "\n",
    "plt.plot(range(len(scores_copy)),scores_copy,label=\"avg scores\")\n",
    "plt.plot(rolling_mean,label=\"rolling mean\")\n",
    "plt.plot(range(len(scores_copy)),(len(scores_copy)*[target_score]), linestyle='--',label=\"target\", color='r')\n",
    "plt.ylabel('Score')\n",
    "plt.xlabel('Episode #')\n",
    "plt.legend()\n",
    "plt.grid(\"on\")\n",
    "plt.show()"
   ]
  },
  {
   "cell_type": "code",
   "execution_count": 18,
   "metadata": {},
   "outputs": [],
   "source": [
    "import torch\n",
    "magent.agents[0].actor_local.load_state_dict(torch.load('checkpoint_actor0.pth'))\n",
    "magent.agents[1].actor_local.load_state_dict(torch.load('checkpoint_actor1.pth'))\n",
    "magent.agents[0].critic_local.load_state_dict(torch.load('checkpoint_critic0.pth'))\n",
    "magent.agents[1].critic_local.load_state_dict(torch.load('checkpoint_critic0.pth'))"
   ]
  },
  {
   "cell_type": "code",
   "execution_count": 19,
   "metadata": {},
   "outputs": [
    {
     "name": "stdout",
     "output_type": "stream",
     "text": [
      "indiv scores and Score (max over agents) from episode 1: [ 0.1  -0.01] 0.10000000149011612\n",
      "indiv scores and Score (max over agents) from episode 2: [ 2.60000004  2.60000004] 2.600000038743019\n",
      "indiv scores and Score (max over agents) from episode 3: [ 2.70000004  2.60000004] 2.7000000402331352\n",
      "indiv scores and Score (max over agents) from episode 4: [ 2.60000004  2.70000004] 2.7000000402331352\n",
      "indiv scores and Score (max over agents) from episode 5: [ 2.60000004  2.60000004] 2.600000038743019\n"
     ]
    }
   ],
   "source": [
    "\n",
    "for i in range(1,6):\n",
    "    env_info = env.reset(train_mode=False)[brain_name]      # reset the environment    \n",
    "    states = env_info.vector_observations                  # get the current state (for each agent)\n",
    "    scores = np.zeros(num_agents)                          # initialize the score (for each agent)\n",
    "    while True:\n",
    "        actions=magent.get_action(states)\n",
    "        env_info = env.step(actions)[brain_name]           # send all actions to tne environment\n",
    "        next_states = env_info.vector_observations         # get next state (for each agent)\n",
    "        rewards = env_info.rewards                         # get reward (for each agent)\n",
    "        dones = env_info.local_done                        # see if episode finished\n",
    "        scores += env_info.rewards                         # update the score (for each agent)\n",
    "        states = next_states                               # roll over states to next time step\n",
    "        if np.any(dones):                                  # exit loop if episode finished\n",
    "            break\n",
    "    print('indiv scores and Score (max over agents) from episode {}: {} {}'.format(i, scores, np.max(scores)))"
   ]
  },
  {
   "cell_type": "code",
   "execution_count": 20,
   "metadata": {},
   "outputs": [],
   "source": [
    "env.close()"
   ]
  },
  {
   "cell_type": "code",
   "execution_count": null,
   "metadata": {},
   "outputs": [],
   "source": []
  },
  {
   "cell_type": "code",
   "execution_count": null,
   "metadata": {},
   "outputs": [],
   "source": []
  },
  {
   "cell_type": "code",
   "execution_count": null,
   "metadata": {},
   "outputs": [],
   "source": []
  }
 ],
 "metadata": {
  "kernelspec": {
   "display_name": "Python 3",
   "language": "python",
   "name": "python3"
  },
  "language_info": {
   "codemirror_mode": {
    "name": "ipython",
    "version": 3
   },
   "file_extension": ".py",
   "mimetype": "text/x-python",
   "name": "python",
   "nbconvert_exporter": "python",
   "pygments_lexer": "ipython3",
   "version": "3.6.3"
  }
 },
 "nbformat": 4,
 "nbformat_minor": 2
}
